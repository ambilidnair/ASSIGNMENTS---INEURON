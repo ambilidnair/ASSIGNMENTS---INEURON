{
 "cells": [
  {
   "cell_type": "code",
   "execution_count": 5,
   "metadata": {},
   "outputs": [
    {
     "data": {
      "text/plain": [
       "11"
      ]
     },
     "execution_count": 5,
     "metadata": {},
     "output_type": "execute_result"
    }
   ],
   "source": [
    "# TASK 1. 1.1 Write a Python Program to implement your own myreduce() function which works exactly like\n",
    "# Python's built-in function reduce()\n",
    "\n",
    "#Find the minimum of a sequence using reduce() function\n",
    "\n",
    "from functools import reduce\n",
    "min_find = lambda a,b: a if (a < b) else b\n",
    "lst =[47,11,42,13]\n",
    "reduce(min_find,lst)"
   ]
  },
  {
   "cell_type": "code",
   "execution_count": 27,
   "metadata": {},
   "outputs": [],
   "source": [
    "#Find the minimum of a sequence using user defined myreduce() function\n",
    "\n",
    "# function definition of myreduce()\n",
    "def myreduce():\n",
    "    list1 = [47,11,42,13]\n",
    "    list1.sort()\n",
    "    print(list1[0])\n",
    "     \n",
    " \n",
    "\n"
   ]
  },
  {
   "cell_type": "code",
   "execution_count": 24,
   "metadata": {},
   "outputs": [
    {
     "name": "stdout",
     "output_type": "stream",
     "text": [
      "11\n"
     ]
    }
   ],
   "source": [
    "# function call for myreduce()\n",
    "myreduce()"
   ]
  },
  {
   "cell_type": "code",
   "execution_count": 53,
   "metadata": {},
   "outputs": [
    {
     "data": {
      "text/plain": [
       "[3, 6, 9, 12, 15, 18, 21, 24, 27, 30]"
      ]
     },
     "execution_count": 53,
     "metadata": {},
     "output_type": "execute_result"
    }
   ],
   "source": [
    "# TASK 1. 1.2 Write a Python program to implement your own myfilter() function which works exactly like\n",
    "# Python's built-in function filter()\n",
    "\n",
    "# Function to print the multiples of 3 in the given range\n",
    "def multiple_3(num):\n",
    "    if num%3 == 0:\n",
    "        return True\n",
    "    \n",
    "# the list\n",
    "list2 = range(1,31)\n",
    "\n",
    "list(filter(multiple_3,list2))"
   ]
  },
  {
   "cell_type": "code",
   "execution_count": 52,
   "metadata": {},
   "outputs": [],
   "source": [
    "# Task 1.1.2 using myfilter() function\n",
    "\n",
    "def myfilter(n):\n",
    "    list4 = []\n",
    "    for i in range(1,n):\n",
    "        if i%3 == 0:\n",
    "            list4.append(i)\n",
    "    print(list4)\n",
    "            \n",
    "    \n",
    "   "
   ]
  },
  {
   "cell_type": "code",
   "execution_count": 54,
   "metadata": {},
   "outputs": [
    {
     "name": "stdout",
     "output_type": "stream",
     "text": [
      "[3, 6, 9, 12, 15, 18, 21, 24, 27, 30]\n"
     ]
    }
   ],
   "source": [
    "#function call to myfilter()\n",
    "myfilter(31)"
   ]
  },
  {
   "cell_type": "code",
   "execution_count": 5,
   "metadata": {},
   "outputs": [
    {
     "name": "stdout",
     "output_type": "stream",
     "text": [
      "['A', 'C', 'A', 'D', 'G', 'I', 'L', 'D']\n"
     ]
    }
   ],
   "source": [
    "# TASK 1.2 Implement List comprehensions to produce the following lists.\n",
    "# Write List comprehensions to produce the following Lists\n",
    "# ['A', 'C', 'A', 'D', 'G', 'I', ’L’, ‘ D’]\n",
    "\n",
    "list1 = list('ACADGILD')\n",
    "print(list1)\n"
   ]
  },
  {
   "cell_type": "code",
   "execution_count": 7,
   "metadata": {},
   "outputs": [
    {
     "name": "stdout",
     "output_type": "stream",
     "text": [
      "['x', 'xx', 'xxx', 'xxxx', 'y', 'yy', 'yyy', 'yyyy', 'z', 'zz', 'zzz', 'zzzz']\n"
     ]
    }
   ],
   "source": [
    "# ['x', 'xx', 'xxx', 'xxxx', 'y', 'yy', 'yyy', 'yyyy', 'z', 'zz', 'zzz', 'zzzz']\n",
    "\n",
    "list2 = ['x','y','z']\n",
    "result2 = [i*n for i in list2 for n in range(1,5)]\n",
    "print(result2)"
   ]
  },
  {
   "cell_type": "code",
   "execution_count": 9,
   "metadata": {},
   "outputs": [
    {
     "name": "stdout",
     "output_type": "stream",
     "text": [
      "['x', 'y', 'z', 'xx', 'yy', 'zz', 'xxx', 'yyy', 'zzz', 'xxxx', 'yyyy', 'zzzz']\n"
     ]
    }
   ],
   "source": [
    "# ['x', 'y', 'z', 'xx', 'yy', 'zz', 'xx', 'yy', 'zz', 'xxxx', 'yyyy', 'zzzz']\n",
    "\n",
    "list3 = ['x','y','z']\n",
    "result3 = [i*n for i in range(1,5) for n in list3]\n",
    "print(result3)\n",
    "\n"
   ]
  },
  {
   "cell_type": "code",
   "execution_count": 17,
   "metadata": {},
   "outputs": [
    {
     "name": "stdout",
     "output_type": "stream",
     "text": [
      "[[2], [3], [4], [3], [4], [5], [4], [5], [6]]\n"
     ]
    }
   ],
   "source": [
    "# [[2], [3], [4], [3], [4], [5], [4], [5], [6]]\n",
    "\n",
    "list4 = [2,3,4]\n",
    "result4 = [[i+n] for i in list4 for n in range(0,3)]\n",
    "print(result4)"
   ]
  },
  {
   "cell_type": "code",
   "execution_count": 26,
   "metadata": {},
   "outputs": [
    {
     "name": "stdout",
     "output_type": "stream",
     "text": [
      "[[2, 3, 4, 5], [3, 4, 5, 6], [4, 5, 6, 7], [5, 6, 7, 8]]\n"
     ]
    }
   ],
   "source": [
    "# [[2, 3, 4, 5], [3, 4, 5, 6], [4, 5, 6, 7], [5, 6, 7, 8]]\n",
    "\n",
    "list5 = [2,3,4,5]\n",
    "result5 = [ [i+n for i in list5] for n in range(0,4)]\n",
    "print(result5)"
   ]
  },
  {
   "cell_type": "code",
   "execution_count": 24,
   "metadata": {},
   "outputs": [
    {
     "data": {
      "text/plain": [
       "[(1, 1), (2, 1), (3, 1), (1, 2), (2, 2), (3, 2), (1, 3), (2, 3), (3, 3)]"
      ]
     },
     "execution_count": 24,
     "metadata": {},
     "output_type": "execute_result"
    }
   ],
   "source": [
    "# [(1, 1), (2, 1), (3, 1), (1, 2), (2, 2), (3, 2), (1, 3), (2, 3), (3, 3)]\n",
    "\n",
    "[(x,y) for y in range(1,4) for x in range(1,4)]"
   ]
  },
  {
   "cell_type": "code",
   "execution_count": 51,
   "metadata": {},
   "outputs": [
    {
     "name": "stdout",
     "output_type": "stream",
     "text": [
      "good_morning\n"
     ]
    }
   ],
   "source": [
    "# TASK 1.3 Implement a function longestWord() that takes a list of words and returns the longest one.\n",
    "\n",
    "def find_longest_word(words_list):\n",
    "    word_len = []\n",
    "    for n in words_list:\n",
    "        word_len.append((len(n), n))\n",
    "   # print(word_len)\n",
    "    word_len.sort()\n",
    "    # print(word_len)\n",
    "    \n",
    "    return word_len[-1][1]\n",
    "\n",
    "print(find_longest_word([\"hello\", \"good_morning\", \"hi\"]))\n"
   ]
  },
  {
   "cell_type": "code",
   "execution_count": 59,
   "metadata": {},
   "outputs": [
    {
     "name": "stdout",
     "output_type": "stream",
     "text": [
      "Enter the value of a:8\n",
      "Enter the value of b:10\n",
      "Enter the value of c:12\n",
      "area of triangle: 39.69\n"
     ]
    }
   ],
   "source": [
    "# TASK 2.1.1 Write a Python Program(with class concepts) to find the area of the triangle using the below formula.\n",
    "# area = (s*(s-a)*(s-b)*(s-c)) ** 0.5\n",
    "# Function to take the length of the sides of triangle from user should be defined in the parent\n",
    "# class and function to calculate the area should be defined in subclass.\n",
    "\n",
    "class Triangle:\n",
    "    def __init__(self,a,b,c):\n",
    "        self.a = a\n",
    "        self.b = b\n",
    "        self.c = c\n",
    "    \n",
    "    def area(self):\n",
    "        s=(self.a + self.b + self.c)/2\n",
    "        return(s*((s-self.a)*(s-self.b)*(s-self.c)))** 0.5\n",
    "\n",
    "a=int(input(\"Enter the value of a:\"))\n",
    "b=int(input(\"Enter the value of b:\"))\n",
    "c=int(input(\"Enter the value of c:\"))\n",
    "\n",
    "obj = Triangle(a,b,c)\n",
    "\n",
    "print(\"area of triangle:\",round(obj.area(),2))"
   ]
  },
  {
   "cell_type": "code",
   "execution_count": 88,
   "metadata": {},
   "outputs": [
    {
     "name": "stdout",
     "output_type": "stream",
     "text": [
      "['awesome', 'amazing', 'wonderful']\n"
     ]
    }
   ],
   "source": [
    "# TASK 2.\n",
    "# 1.2 Write a function filter_long_words() that takes a list of words and an integer n and returns the list\n",
    "# of words that are longer than n.\n",
    "\n",
    "# function definition\n",
    "\n",
    "def filter_long_words(word_list1,n):\n",
    "    word_list_result=[]\n",
    "   \n",
    "    for i in word_list1:\n",
    "        if(len(i)>n):\n",
    "            word_list_result.append(i)\n",
    "    print(word_list_result)\n",
    "            \n",
    "            \n",
    "# function call            \n",
    "filter_long_words(['great','kind','awesome','amazing','wonderful'],6)\n",
    "    \n",
    "    "
   ]
  },
  {
   "cell_type": "code",
   "execution_count": 90,
   "metadata": {},
   "outputs": [
    {
     "name": "stdout",
     "output_type": "stream",
     "text": [
      "[2, 3, 4]\n"
     ]
    }
   ],
   "source": [
    "# TASK 2\n",
    "# 2.1 Write a Python program using function concept that maps list of words into a list of integers\n",
    "# representing the lengths of the corresponding words .\n",
    "# Hint: If a list [ ab,cde,erty] is passed on to the python function output should come as [2,3,4]\n",
    "# Here 2,3 and 4 are the lengths of the words in the list.\n",
    "\n",
    "def map_word_to_length(word_list2):\n",
    "    word_len2 = []\n",
    "    for i in word_list2:\n",
    "        word_len2.append(len(i))\n",
    "    print(word_len2)\n",
    "    \n",
    "map_word_to_length([ 'ab','cde','erty'])\n",
    "    "
   ]
  },
  {
   "cell_type": "code",
   "execution_count": 111,
   "metadata": {},
   "outputs": [
    {
     "name": "stdout",
     "output_type": "stream",
     "text": [
      "Enter the input character:t\n"
     ]
    },
    {
     "data": {
      "text/plain": [
       "False"
      ]
     },
     "execution_count": 111,
     "metadata": {},
     "output_type": "execute_result"
    }
   ],
   "source": [
    "# TASK 2\n",
    "# 2.2 \n",
    "# Write a Python function which takes a character (i.e. a string of length 1) and returns True if it is\n",
    "# a vowel, False otherwise.\n",
    "\n",
    "def vowel_or_not(ch):\n",
    "    vowel_list =list('aeiou')\n",
    "    for i in vowel_list:\n",
    "        while i==ch:\n",
    "            return True\n",
    "        return False\n",
    "   \n",
    "    \n",
    "char = input('Enter the input character:')\n",
    "vowel_or_not(char)"
   ]
  }
 ],
 "metadata": {
  "kernelspec": {
   "display_name": "Python 3",
   "language": "python",
   "name": "python3"
  },
  "language_info": {
   "codemirror_mode": {
    "name": "ipython",
    "version": 3
   },
   "file_extension": ".py",
   "mimetype": "text/x-python",
   "name": "python",
   "nbconvert_exporter": "python",
   "pygments_lexer": "ipython3",
   "version": "3.7.3"
  }
 },
 "nbformat": 4,
 "nbformat_minor": 2
}
